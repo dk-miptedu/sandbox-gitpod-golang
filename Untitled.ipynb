{
 "cells": [
  {
   "cell_type": "code",
   "execution_count": 1,
   "id": "8159dd85-1ba7-4a91-b57c-4bafc6770e84",
   "metadata": {},
   "outputs": [
    {
     "name": "stdout",
     "output_type": "stream",
     "text": [
      "Installing go ...env: GOROOT=/content/go\n",
      "ln: failed to create symbolic link '/usr/bin/go': Permission denied\n",
      " done.\n",
      "go: cannot find GOROOT directory: /content/go\n",
      "Installing gonb ...go: cannot find GOROOT directory: /content/go\n",
      " done.\n",
      "ln: failed to create symbolic link '/usr/bin/gonb': Permission denied\n",
      "Installing goimports ...go: cannot find GOROOT directory: /content/go\n",
      " done.\n",
      "ln: failed to create symbolic link '/usr/bin/goimports': Permission denied\n",
      "Installing gopls ...go: cannot find GOROOT directory: /content/go\n",
      " done.\n",
      "ln: failed to create symbolic link '/usr/bin/gopls': Permission denied\n",
      "/bin/bash: gonb: command not found\n",
      "Done!\n"
     ]
    }
   ],
   "source": [
    "#@title Install Go, `goimports` and GoNB code.\n",
    "\n",
    "# Install Go and goimports.\n",
    "!echo -n \"Installing go ...\"\n",
    "!mkdir -p cache\n",
    "!wget -q -O cache/go.tar.gz 'https://go.dev/dl/go1.23.1.linux-amd64.tar.gz'\n",
    "!tar xzf cache/go.tar.gz\n",
    "%env GOROOT=/content/go\n",
    "!ln -sf \"/content/go/bin/go\" /usr/bin/go\n",
    "!echo \" done.\"\n",
    "!go version\n",
    "\n",
    "# Install gonb, goimports, gopls.\n",
    "!echo -n \"Installing gonb ...\"\n",
    "!go install github.com/janpfeifer/gonb@latest >& /tmp/output || cat /tmp/output\n",
    "!echo \" done.\"\n",
    "!ln -sf /root/go/bin/gonb /usr/bin/gonb\n",
    "\n",
    "!echo -n \"Installing goimports ...\"\n",
    "!go install golang.org/x/tools/cmd/goimports@latest >& /tmp/output || cat /tmp/output\n",
    "!echo \" done.\"\n",
    "!ln -sf /root/go/bin/goimports /usr/bin/goimports\n",
    "\n",
    "!echo -n \"Installing gopls ...\"\n",
    "!go install golang.org/x/tools/gopls@latest >& /tmp/output || cat /tmp/output\n",
    "!echo \" done.\"\n",
    "!ln -sf /root/go/bin/gopls /usr/bin/gopls\n",
    "\n",
    "# Install gonb kernel configuration.\n",
    "!gonb --install --logtostderr\n",
    "!echo \"Done!\""
   ]
  }
 ],
 "metadata": {
  "kernelspec": {
   "display_name": "Python 3 (ipykernel)",
   "language": "python",
   "name": "python3"
  },
  "language_info": {
   "codemirror_mode": {
    "name": "ipython",
    "version": 3
   },
   "file_extension": ".py",
   "mimetype": "text/x-python",
   "name": "python",
   "nbconvert_exporter": "python",
   "pygments_lexer": "ipython3",
   "version": "3.12.1"
  }
 },
 "nbformat": 4,
 "nbformat_minor": 5
}

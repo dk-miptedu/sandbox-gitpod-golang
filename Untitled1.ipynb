{
 "cells": [
  {
   "cell_type": "code",
   "execution_count": 2,
   "id": "6706778c-901b-411d-8860-068fb3d9f30b",
   "metadata": {},
   "outputs": [
    {
     "name": "stdout",
     "output_type": "stream",
     "text": [
      "Hello World!"
     ]
    },
    {
     "data": {
      "text/plain": [
       "12 <nil>"
      ]
     },
     "execution_count": 2,
     "metadata": {},
     "output_type": "execute_result"
    }
   ],
   "source": [
    "fmt.Printf(\"Hello World!\")"
   ]
  },
  {
   "cell_type": "code",
   "execution_count": 1,
   "id": "616bd541-046d-4c24-ba07-ff2238bff507",
   "metadata": {},
   "outputs": [],
   "source": [
    "import \"fmt\""
   ]
  },
  {
   "cell_type": "code",
   "execution_count": 35,
   "id": "026843be-951e-4d6f-b3d8-94e4e51e47a7",
   "metadata": {},
   "outputs": [
    {
     "name": "stdout",
     "output_type": "stream",
     "text": [
      "go version go1.23.1 linux/amd64\n"
     ]
    }
   ],
   "source": [
    "$go version"
   ]
  },
  {
   "cell_type": "code",
   "execution_count": 31,
   "id": "a88e3596-c22a-446c-be6d-5a98b4ea9e6f",
   "metadata": {},
   "outputs": [],
   "source": [
    "import \"github.com/janpfeifer/gonb/gonbui\""
   ]
  },
  {
   "cell_type": "code",
   "execution_count": 34,
   "id": "a6ee3c13-773b-4671-85ab-b304c7525232",
   "metadata": {},
   "outputs": [
    {
     "name": "stdout",
     "output_type": "stream",
     "text": [
      "main\n"
     ]
    },
    {
     "data": {
      "text/plain": [
       "5 <nil>"
      ]
     },
     "execution_count": 34,
     "metadata": {},
     "output_type": "execute_result"
    }
   ],
   "source": [
    "func init_a() {\n",
    "    fmt.Println(\"init_a\")\n",
    "}\n",
    "\n",
    "fmt.Println(\"main\")\n",
    "\n",
    "\n"
   ]
  },
  {
   "cell_type": "code",
   "execution_count": 32,
   "id": "50d8aedc-0be0-4404-89e8-faf10e543cdd",
   "metadata": {},
   "outputs": [],
   "source": [
    "import \"github.com/schollz/progressbar/v3\""
   ]
  },
  {
   "cell_type": "code",
   "execution_count": 26,
   "id": "3d703e0b-4fc2-46f2-9645-cd372968a9a5",
   "metadata": {},
   "outputs": [
    {
     "ename": "ERROR",
     "evalue": "repl.go:1:8: not a type: progressbar.Default <*ast.SelectorExpr>",
     "output_type": "error",
     "traceback": [
      "repl.go:1:8: not a type: progressbar.Default <*ast.SelectorExpr>"
     ]
    }
   ],
   "source": [
    "bar := progressbar.Default(100)\n",
    "for i := 0; i < 100; i++ {\n",
    "    bar.Add(1)\n",
    "    time.Sleep(40 * time.Millisecond)\n",
    "}"
   ]
  },
  {
   "cell_type": "code",
   "execution_count": 12,
   "id": "abfe152f-f2ea-4c5a-844b-c74605c60e52",
   "metadata": {},
   "outputs": [
    {
     "ename": "ERROR",
     "evalue": "repl.go:2:11: undefined \"margaid\" in margaid.NewSeries <*ast.SelectorExpr>",
     "output_type": "error",
     "traceback": [
      "repl.go:2:11: undefined \"margaid\" in margaid.NewSeries <*ast.SelectorExpr>"
     ]
    }
   ],
   "source": [
    "import \"github.com/erkkah/margaid\"\n",
    "series := margaid.NewSeries()"
   ]
  },
  {
   "cell_type": "code",
   "execution_count": 11,
   "id": "427bd593-545d-4aa6-bebf-9c5a36d06661",
   "metadata": {},
   "outputs": [
    {
     "ename": "ERROR",
     "evalue": "repl.go:1:1: not a type: mg.NewSeries <*ast.SelectorExpr>",
     "output_type": "error",
     "traceback": [
      "repl.go:1:1: not a type: mg.NewSeries <*ast.SelectorExpr>"
     ]
    }
   ],
   "source": [
    "mg.NewSeries()"
   ]
  }
 ],
 "metadata": {
  "kernelspec": {
   "display_name": "Go",
   "language": "go",
   "name": "gophernotes"
  },
  "language_info": {
   "codemirror_mode": "",
   "file_extension": ".go",
   "mimetype": "",
   "name": "go",
   "nbconvert_exporter": "",
   "pygments_lexer": "",
   "version": "go1.23.1"
  }
 },
 "nbformat": 4,
 "nbformat_minor": 5
}
